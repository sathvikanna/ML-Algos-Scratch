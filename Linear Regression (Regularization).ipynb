{
 "cells": [
  {
   "cell_type": "code",
   "execution_count": 1,
   "metadata": {},
   "outputs": [],
   "source": [
    "import numpy as np\n",
    "import seaborn as sns"
   ]
  },
  {
   "cell_type": "code",
   "execution_count": 2,
   "metadata": {},
   "outputs": [],
   "source": [
    "def predict(X, W, b):\n",
    "    \"\"\"Used for predicting y given input X and weights (W, b)\"\"\"\n",
    "    return X @ W + b"
   ]
  },
  {
   "cell_type": "code",
   "execution_count": 3,
   "metadata": {},
   "outputs": [],
   "source": [
    "def loss(y, y_pred, W, lambd):\n",
    "    \"\"\"Used for calculating loss given original y and prediction y\"\"\"\n",
    "    m = y.shape[0]\n",
    "    return (0.5 / m) * (np.sum((y - y_pred) ** 2) + (lambd * np.sum(W ** 2)))"
   ]
  },
  {
   "cell_type": "code",
   "execution_count": 4,
   "metadata": {},
   "outputs": [],
   "source": [
    "def grads(X, y, y_pred, W, lambd):\n",
    "    \"\"\"Used for calculating gradients for W, b ==> dW, db\"\"\"\n",
    "    m = y.shape[0]\n",
    "    dW = (1 / m) * ((X.T @ (y_pred - y)) + (lambd * W))\n",
    "    db = (1 / m) * np.sum(y_pred - y, keepdims=True)\n",
    "    return dW, db"
   ]
  },
  {
   "cell_type": "code",
   "execution_count": 5,
   "metadata": {},
   "outputs": [],
   "source": [
    "def update(W, b, dW, db, alpha):\n",
    "    \"\"\"Used for updating variables W, b given dW, db\"\"\"\n",
    "    W_ = W - (alpha * dW)\n",
    "    b_ = b - (alpha * db)\n",
    "    return W_, b_"
   ]
  },
  {
   "cell_type": "code",
   "execution_count": 6,
   "metadata": {},
   "outputs": [],
   "source": [
    "def linear_model(X, y, alpha=0.03, iters=250, lambd=0):\n",
    "    \"\"\"\n",
    "    Input :\n",
    "    -> X     - Training Data (Features)\n",
    "    -> y     - Training Data (Label)\n",
    "    -> alpha - Learning Rate\n",
    "    -> iters - Number of iterations\n",
    "    \n",
    "    Output :\n",
    "    -> W, b  - Weights\n",
    "    -> costs - History of costs while Training\n",
    "    \"\"\"\n",
    "    W = np.zeros((X.shape[1], y.shape[1]))\n",
    "    b = np.zeros((1, y.shape[1]))\n",
    "    costs = []\n",
    "    for i in range(iters):\n",
    "        y_pred = predict(X, W, b)\n",
    "        c = loss(y, y_pred, W, lambd)\n",
    "        dW, db = grads(X, y, y_pred, W, lambd)\n",
    "        W, b = update(W, b, dW, db, alpha)\n",
    "        costs.append(c)\n",
    "    return (W, b), costs"
   ]
  },
  {
   "cell_type": "code",
   "execution_count": 7,
   "metadata": {},
   "outputs": [],
   "source": [
    "def r2_score(y, y_pred):\n",
    "    return 1 - (np.sum((y - y_pred) ** 2) / np.sum((y - y.mean()) ** 2))"
   ]
  },
  {
   "cell_type": "code",
   "execution_count": 8,
   "metadata": {},
   "outputs": [
    {
     "data": {
      "text/plain": [
       "0.9999091879085859"
      ]
     },
     "execution_count": 8,
     "metadata": {},
     "output_type": "execute_result"
    },
    {
     "data": {
      "image/png": "[encoded data removed]",
      "text/plain": [
       "<Figure size 432x288 with 1 Axes>"
      ]
     },
     "metadata": {
      "needs_background": "light"
     },
     "output_type": "display_data"
    }
   ],
   "source": [
    "X = np.random.rand(1000, 2)\n",
    "W = np.array([2, 1]).reshape(-1, 1)\n",
    "b = np.array([[4]])\n",
    "y = X @ W\n",
    "\n",
    "(W, b), costs = linear_model(X, y, alpha=0.3, lambd=0.1)\n",
    "sns.lineplot(data=costs)\n",
    "\n",
    "y_pred = predict(X, W, b)\n",
    "\n",
    "r2_score(y, y_pred)"
   ]
  }
 ],
 "metadata": {
  "kernelspec": {
   "display_name": "Python 3",
   "language": "python",
   "name": "python3"
  },
  "language_info": {
   "codemirror_mode": {
    "name": "ipython",
    "version": 3
   },
   "file_extension": ".py",
   "mimetype": "text/x-python",
   "name": "python",
   "nbconvert_exporter": "python",
   "pygments_lexer": "ipython3",
   "version": "3.8.6rc1"
  }
 },
 "nbformat": 4,
 "nbformat_minor": 4
}
