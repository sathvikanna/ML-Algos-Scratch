{
 "cells": [
  {
   "cell_type": "markdown",
   "metadata": {
    "id": "FtwkqifgLPl6"
   },
   "source": [
    "## Multi-Class Classification using Logistic Regression with Softmax Output"
   ]
  },
  {
   "cell_type": "code",
   "execution_count": null,
   "metadata": {},
   "outputs": [],
   "source": [
    "import numpy as np"
   ]
  },
  {
   "cell_type": "code",
   "execution_count": null,
   "metadata": {
    "id": "ibf6l94hN2jO"
   },
   "outputs": [],
   "source": [
    "def softmax(Z):\n",
    "    \"\"\"Used for calculating softmax of output\"\"\"\n",
    "    return np.exp(Z) / np.sum(np.exp(Z), axis=1, keepdims=True)\n",
    " \n",
    "def predict(X, W, b):\n",
    "    \"\"\"Used for predicting y given input X and weights (W, b)\"\"\"\n",
    "    return softmax(X @ W + b)\n",
    " \n",
    "def loss(y, y_pred):\n",
    "    \"\"\"Used for calculating loss given original y and prediction y\"\"\"\n",
    "    m = y.shape[0]\n",
    "    return -(1 / m) * np.sum(y * np.log(y_pred))\n",
    " \n",
    "def grads(X, y, y_pred):\n",
    "    \"\"\"Used for calculating gradients for W, b ==> dW, db\"\"\"\n",
    "    m = y.shape[0]\n",
    "    dW = (1 / m) * (X.T @ (y_pred - y))\n",
    "    db = (1 / m) * np.sum(y_pred - y, keepdims=True, axis=0)\n",
    "    return dW, db\n",
    " \n",
    "def update(W, b, dW, db, alpha):\n",
    "    \"\"\"Used for updating variables W, b given dW, db\"\"\"\n",
    "    W_ = W - (alpha * dW)\n",
    "    b_ = b - (alpha * db)\n",
    "    return W_, b_\n",
    " \n",
    "def logistic_model(X, y, alpha=0.03, iters=250):\n",
    "    \"\"\"\n",
    "    Input :\n",
    "    -> X     - Training Data (Features)\n",
    "    -> y     - Training Data (Label)\n",
    "    -> alpha - Learning Rate\n",
    "    -> iters - Number of iterations\n",
    "    \n",
    "    Output :\n",
    "    -> W, b  - Weights\n",
    "    -> costs - History of costs while Training\n",
    "    \"\"\"\n",
    "    W = np.random.randn(X.shape[1], y.shape[1])\n",
    "    b = np.random.randn(1, y.shape[1])\n",
    "    costs = []\n",
    "    for i in range(iters + 1):\n",
    "        y_pred = predict(X, W, b)\n",
    "        c = loss(y, y_pred)\n",
    "        dW, db = grads(X, y, y_pred)\n",
    "        W, b = update(W, b, dW, db, alpha)\n",
    "        if i % (iters // 10) == 0:\n",
    "            costs.append(c)\n",
    "    return (W, b), costs"
   ]
  }
 ],
 "metadata": {
  "colab": {
   "collapsed_sections": [],
   "name": "20 NewsGroups Classification.ipynb",
   "provenance": []
  },
  "kernelspec": {
   "display_name": "Python 3",
   "language": "python",
   "name": "python3"
  },
  "language_info": {
   "codemirror_mode": {
    "name": "ipython",
    "version": 3
   },
   "file_extension": ".py",
   "mimetype": "text/x-python",
   "name": "python",
   "nbconvert_exporter": "python",
   "pygments_lexer": "ipython3",
   "version": "3.8.6rc1"
  }
 },
 "nbformat": 4,
 "nbformat_minor": 1
}
