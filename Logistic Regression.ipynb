{
 "cells": [
  {
   "cell_type": "markdown",
   "metadata": {},
   "source": [
    "# Logistic Regression "
   ]
  },
  {
   "cell_type": "code",
   "execution_count": 1,
   "metadata": {},
   "outputs": [],
   "source": [
    "import numpy as np\n",
    "import seaborn as sns"
   ]
  },
  {
   "cell_type": "code",
   "execution_count": 2,
   "metadata": {},
   "outputs": [],
   "source": [
    "def sigmoid(Z):\n",
    "    \"\"\"Used for calculating sigmoid\"\"\"\n",
    "    return 1 / (1 + np.exp(-Z))"
   ]
  },
  {
   "cell_type": "code",
   "execution_count": 3,
   "metadata": {},
   "outputs": [],
   "source": [
    "def predict(X, W, b):\n",
    "    \"\"\"Used for predicting y given input X and weights (W, b)\"\"\"\n",
    "    return sigmoid(X @ W + b)"
   ]
  },
  {
   "cell_type": "code",
   "execution_count": 4,
   "metadata": {},
   "outputs": [],
   "source": [
    "def loss(y, y_pred):\n",
    "    \"\"\"Used for calculating loss given original y and prediction y\"\"\"\n",
    "    m = y.shape[0]\n",
    "    return (-1 / m) * np.sum((y * np.log(y_pred)) + ((1 - y) * np.log(1 - y_pred)))"
   ]
  },
  {
   "cell_type": "code",
   "execution_count": 5,
   "metadata": {},
   "outputs": [],
   "source": [
    "def grads(X, y, y_pred):\n",
    "    \"\"\"Used for calculating gradients for W, b ==> dW, db\"\"\"\n",
    "    m = y.shape[0]\n",
    "    dW = (1 / m) * (X.T @ (y_pred - y))\n",
    "    db = (1 / m) * np.sum(y_pred - y, keepdims=True)\n",
    "    return dW, db"
   ]
  },
  {
   "cell_type": "code",
   "execution_count": 6,
   "metadata": {},
   "outputs": [],
   "source": [
    "def update(W, b, dW, db, alpha):\n",
    "    \"\"\"Used for updating variables W, b given dW, db\"\"\"\n",
    "    W_ = W - (alpha * dW)\n",
    "    b_ = b - (alpha * db)\n",
    "    return W_, b_"
   ]
  },
  {
   "cell_type": "code",
   "execution_count": 7,
   "metadata": {},
   "outputs": [],
   "source": [
    "def logistic_model(X, y, alpha=0.03, iters=250):\n",
    "    \"\"\"\n",
    "    Input :\n",
    "    -> X     - Training Data (Features)\n",
    "    -> y     - Training Data (Label)\n",
    "    -> alpha - Learning Rate\n",
    "    -> iters - Number of iterations\n",
    "    \n",
    "    Output :\n",
    "    -> W, b  - Weights\n",
    "    -> costs - History of costs while Training\n",
    "    \"\"\"\n",
    "    W = np.zeros((X.shape[1], y.shape[1]))\n",
    "    b = np.zeros((1, 1))\n",
    "    costs = []\n",
    "    for i in range(iters):\n",
    "        y_pred = predict(X, W, b)\n",
    "        c = loss(y, y_pred)\n",
    "        dW, db = grads(X, y, y_pred)\n",
    "        W, b = update(W, b, dW, db, alpha)\n",
    "        costs.append(c)\n",
    "    return (W, b), costs"
   ]
  },
  {
   "cell_type": "code",
   "execution_count": 8,
   "metadata": {},
   "outputs": [],
   "source": [
    "def accuracy(y, y_pred):\n",
    "    m = y.shape[0]\n",
    "    return (y == y_pred).sum() / m"
   ]
  }
 ],
 "metadata": {
  "kernelspec": {
   "display_name": "Python 3",
   "language": "python",
   "name": "python3"
  },
  "language_info": {
   "codemirror_mode": {
    "name": "ipython",
    "version": 3
   },
   "file_extension": ".py",
   "mimetype": "text/x-python",
   "name": "python",
   "nbconvert_exporter": "python",
   "pygments_lexer": "ipython3",
   "version": "3.8.6rc1"
  }
 },
 "nbformat": 4,
 "nbformat_minor": 4
}
