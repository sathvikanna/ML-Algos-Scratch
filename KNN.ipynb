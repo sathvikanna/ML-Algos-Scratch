{
 "cells": [
  {
   "source": [
    "# K Nearest Neighbors Algorithm\n",
    "\n",
    "## Loading Useful Libraries and Functions"
   ],
   "cell_type": "markdown",
   "metadata": {}
  },
  {
   "cell_type": "code",
   "execution_count": 1,
   "metadata": {},
   "outputs": [],
   "source": [
    "import numpy as np\n",
    "from scipy.stats import mode\n",
    "from sklearn.datasets import load_iris\n",
    "from sklearn.model_selection import train_test_split"
   ]
  },
  {
   "source": [
    "## Loading IRIS Dataset"
   ],
   "cell_type": "markdown",
   "metadata": {}
  },
  {
   "cell_type": "code",
   "execution_count": 2,
   "metadata": {},
   "outputs": [],
   "source": [
    "iris_dataset = load_iris()\n",
    "X = iris_dataset.data\n",
    "y = iris_dataset.target"
   ]
  },
  {
   "source": [
    "## Train Test Split"
   ],
   "cell_type": "markdown",
   "metadata": {}
  },
  {
   "cell_type": "code",
   "execution_count": 3,
   "metadata": {},
   "outputs": [],
   "source": [
    "train_X, test_X, train_y, test_y = train_test_split(X, y, test_size=0.2, shuffle=True, stratify=y)"
   ]
  },
  {
   "cell_type": "code",
   "execution_count": 4,
   "metadata": {},
   "outputs": [
    {
     "name": "stdout",
     "output_type": "stream",
     "text": [
      "Shape of train_X : (120, 4)\n",
      "Shape of test_X : (30, 4)\n",
      "Shape of train_y : (120,)\n",
      "Shape of test_y : (30,)\n"
     ]
    }
   ],
   "source": [
    "print(f'Shape of train_X : {train_X.shape}')\n",
    "print(f'Shape of test_X : {test_X.shape}')\n",
    "print(f'Shape of train_y : {train_y.shape}')\n",
    "print(f'Shape of test_y : {test_y.shape}')"
   ]
  },
  {
   "source": [
    "## Distance Metric Function"
   ],
   "cell_type": "markdown",
   "metadata": {}
  },
  {
   "cell_type": "code",
   "execution_count": 6,
   "metadata": {},
   "outputs": [],
   "source": [
    "def distance(array1, array2, p=2):\n",
    "    diff = np.abs(array1 - array2)\n",
    "    distance = np.sum(diff ** p) ** (1/p)\n",
    "    return distance"
   ]
  },
  {
   "source": [
    "## Prediction Function for a Given Query Point"
   ],
   "cell_type": "markdown",
   "metadata": {}
  },
  {
   "cell_type": "code",
   "execution_count": 7,
   "metadata": {},
   "outputs": [],
   "source": [
    "def predict(train_X, train_y, query, k=7):\n",
    "    \n",
    "    distance_l = []\n",
    "    for X in train_X:\n",
    "        d = float(distance(X, query))\n",
    "        distance_l.append(d)\n",
    "    distance_v = np.array(distance_l)\n",
    "    \n",
    "    top_k_indices = distance_v.argsort()[:k]\n",
    "    \n",
    "    neighborhood_y = train_y[top_k_indices]\n",
    "    \n",
    "    predicted_class = mode(neighborhood_y)[0]\n",
    "    \n",
    "    return predicted_class.item()"
   ]
  },
  {
   "source": [
    "## Accuracy Function"
   ],
   "cell_type": "markdown",
   "metadata": {}
  },
  {
   "cell_type": "code",
   "execution_count": 8,
   "metadata": {},
   "outputs": [],
   "source": [
    "def accuracy(test_y, pred_y):\n",
    "    return np.mean(test_y == pred_y)"
   ]
  },
  {
   "source": [
    "## Testing"
   ],
   "cell_type": "markdown",
   "metadata": {}
  },
  {
   "cell_type": "code",
   "execution_count": 9,
   "metadata": {},
   "outputs": [
    {
     "name": "stdout",
     "output_type": "stream",
     "text": [
      "Prediction Accuracy : 0.9666666666666667\n"
     ]
    }
   ],
   "source": [
    "pred_y = []\n",
    "for query in test_X:\n",
    "    pred_y.append(predict(train_X, train_y, query))\n",
    "pred_y = np.array(pred_y)\n",
    "print(f\"Prediction Accuracy : {accuracy(test_y, pred_y)}\")"
   ]
  }
 ],
 "metadata": {
  "kernelspec": {
   "display_name": "Python 3",
   "language": "python",
   "name": "python3"
  },
  "language_info": {
   "codemirror_mode": {
    "name": "ipython",
    "version": 3
   },
   "file_extension": ".py",
   "mimetype": "text/x-python",
   "name": "python",
   "nbconvert_exporter": "python",
   "pygments_lexer": "ipython3",
   "version": "3.8.6rc1"
  }
 },
 "nbformat": 4,
 "nbformat_minor": 4
}