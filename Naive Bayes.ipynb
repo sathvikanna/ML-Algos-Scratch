{
 "cells": [
  {
   "cell_type": "markdown",
   "metadata": {
    "id": "e93xEZy2JCe1"
   },
   "source": [
    "# Naive Bayes (Document Classification)"
   ]
  },
  {
   "cell_type": "markdown",
   "metadata": {
    "id": "2L5Td5KdJQXU"
   },
   "source": [
    "## Importing Libraries"
   ]
  },
  {
   "cell_type": "code",
   "execution_count": 1,
   "metadata": {
    "colab": {
     "base_uri": "https://localhost:8080/"
    },
    "id": "vFYu7nCOibB7",
    "outputId": "46c70368-55d2-483b-aec8-279e849571ba"
   },
   "outputs": [],
   "source": [
    "import string\n",
    "import numpy as np\n",
    " \n",
    "from sklearn.datasets import fetch_20newsgroups\n",
    "from sklearn.feature_extraction.text import CountVectorizer\n",
    "from sklearn.metrics import accuracy_score"
   ]
  },
  {
   "cell_type": "markdown",
   "metadata": {
    "id": "mEDuJG8M-Wpx"
   },
   "source": [
    "### Loading and preprocessing data into Term Frequency Vector"
   ]
  },
  {
   "cell_type": "code",
   "execution_count": 2,
   "metadata": {
    "id": "NvJHHXM3-F4M"
   },
   "outputs": [],
   "source": [
    "X_train, y_train = fetch_20newsgroups(subset=\"train\", return_X_y=True)\n",
    "X_test, y_test = fetch_20newsgroups(subset=\"test\", return_X_y=True)\n",
    "\n",
    "n_classes = 20\n",
    "max_features = 10000\n",
    "\n",
    "vectorizer = CountVectorizer(ngram_range=(1, 1), max_features=max_features)\n",
    "vectorizer.fit(X_train)\n",
    "\n",
    "X_train = vectorizer.transform(X_train)\n",
    "X_test = vectorizer.transform(X_test)\n",
    "\n",
    "X_train = X_train.toarray()\n",
    "X_test = X_test.toarray()\n",
    "\n",
    "y_train = np.array(y_train)\n",
    "y_test = np.array(y_test)"
   ]
  },
  {
   "cell_type": "markdown",
   "metadata": {
    "id": "KiB2AnWb-hDN"
   },
   "source": [
    "### Building Prior Probability and Word Probability Matrices"
   ]
  },
  {
   "cell_type": "code",
   "execution_count": 3,
   "metadata": {
    "id": "MIxW2ouD-Jz0"
   },
   "outputs": [],
   "source": [
    "probs = np.ones((n_classes, max_features))\n",
    "for X, y in zip(X_train, y_train):\n",
    "    probs[y] += X\n",
    "probs_sum = np.sum(probs, axis=1, keepdims=True)\n",
    "probs = probs / probs_sum\n",
    "\n",
    "prior = np.array([np.sum(y_train == c) for c in range(n_classes)])\n",
    "prior = prior / prior.sum()"
   ]
  },
  {
   "cell_type": "markdown",
   "metadata": {
    "id": "uoaWGHJW-mrZ"
   },
   "source": [
    "### Function to Predict data using prior and probability matrix"
   ]
  },
  {
   "cell_type": "code",
   "execution_count": 4,
   "metadata": {
    "id": "ENCksIkJ-M-v"
   },
   "outputs": [],
   "source": [
    "def predict(X, probs, prior):\n",
    "    y_likelihood = np.zeros((X.shape[0], probs.shape[0]))\n",
    "    for i in range(X.shape[0]):\n",
    "        y_likelihood[i] = np.sum(X[i] * np.log(probs), axis=1)\n",
    "    y_pred_prob = y_likelihood +  prior\n",
    "    y_pred = np.argmax(y_pred_prob, axis=1)\n",
    "    return y_pred"
   ]
  },
  {
   "cell_type": "markdown",
   "metadata": {
    "id": "OTh7_xtH-viK"
   },
   "source": [
    "### Training and Testing Prediction Accuracy"
   ]
  },
  {
   "cell_type": "code",
   "execution_count": 5,
   "metadata": {
    "colab": {
     "base_uri": "https://localhost:8080/"
    },
    "id": "tEsMZyWh-Rqm",
    "outputId": "16caa255-c638-45a4-e6dc-1096679d0e2b"
   },
   "outputs": [
    {
     "name": "stdout",
     "output_type": "stream",
     "text": [
      "Training Accuracy : 89.39%\n",
      "Testing Accuracy : 77.27%\n"
     ]
    }
   ],
   "source": [
    "y_pred = predict(X_train, probs, prior)\n",
    "\n",
    "print(\"Training Accuracy : {:.2f}%\".format(accuracy_score(y_train, y_pred) * 100))\n",
    "\n",
    "y_pred = predict(X_test, probs, prior)\n",
    "\n",
    "print(\"Testing Accuracy : {:.2f}%\".format(accuracy_score(y_test, y_pred) * 100))"
   ]
  },
  {
   "cell_type": "markdown",
   "metadata": {},
   "source": [
    "## Using Sklearn "
   ]
  },
  {
   "cell_type": "code",
   "execution_count": 6,
   "metadata": {},
   "outputs": [
    {
     "data": {
      "text/plain": [
       "0.772437599575146"
      ]
     },
     "execution_count": 6,
     "metadata": {},
     "output_type": "execute_result"
    }
   ],
   "source": [
    "from sklearn.naive_bayes import MultinomialNB\n",
    "nb = MultinomialNB()\n",
    "nb.fit(X_train, y_train)\n",
    "nb.score(X_test, y_test)"
   ]
  }
 ],
 "metadata": {
  "colab": {
   "collapsed_sections": [],
   "name": "20 NewsGroups Classification.ipynb",
   "provenance": []
  },
  "kernelspec": {
   "display_name": "Python 3",
   "language": "python",
   "name": "python3"
  },
  "language_info": {
   "codemirror_mode": {
    "name": "ipython",
    "version": 3
   },
   "file_extension": ".py",
   "mimetype": "text/x-python",
   "name": "python",
   "nbconvert_exporter": "python",
   "pygments_lexer": "ipython3",
   "version": "3.8.6rc1"
  }
 },
 "nbformat": 4,
 "nbformat_minor": 1
}
