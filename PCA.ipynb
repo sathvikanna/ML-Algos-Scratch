{
 "cells": [
  {
   "cell_type": "code",
   "execution_count": 1,
   "metadata": {},
   "outputs": [],
   "source": [
    "import numpy as np"
   ]
  },
  {
   "cell_type": "code",
   "execution_count": 2,
   "metadata": {},
   "outputs": [],
   "source": [
    "def compute_pca(data, k=2):\n",
    "    \n",
    "    m, n = data.shape\n",
    "    \n",
    "    data_mean = data.mean(axis=0)\n",
    "    data_std = data.std(axis=0)\n",
    "    data = (data - data_mean) / data_std\n",
    "    \n",
    "    covariance_matrix = np.cov(data, rowvar=False)\n",
    "    \n",
    "    eigen_vals, eigen_vecs = np.linalg.eigh(covariance_matrix)\n",
    "    \n",
    "    idx = np.argsort(eigen_vals)[::-1]\n",
    "    \n",
    "    eigen_vecs = eigen_vecs[:, idx]\n",
    "    \n",
    "    eigen_vecs = eigen_vecs[:, :k]\n",
    "    \n",
    "    return np.dot(data, eigen_vecs)"
   ]
  }
 ],
 "metadata": {
  "kernelspec": {
   "display_name": "Python 3",
   "language": "python",
   "name": "python3"
  },
  "language_info": {
   "codemirror_mode": {
    "name": "ipython",
    "version": 3
   },
   "file_extension": ".py",
   "mimetype": "text/x-python",
   "name": "python",
   "nbconvert_exporter": "python",
   "pygments_lexer": "ipython3",
   "version": "3.8.6rc1"
  }
 },
 "nbformat": 4,
 "nbformat_minor": 4
}
